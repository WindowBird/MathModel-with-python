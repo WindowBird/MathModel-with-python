{
 "cells": [
  {
   "cell_type": "code",
   "execution_count": 1,
   "id": "99e2997f",
   "metadata": {},
   "outputs": [
    {
     "name": "stdout",
     "output_type": "stream",
     "text": [
      "资源分配方案：\n",
      "[[ 3.  5.  0.  7.  0.  1.]\n",
      " [ 0.  0.  4.  0.  6. 10.]]\n",
      "最小距离与资源运载量之积： 135.28154179067644\n"
     ]
    }
   ],
   "source": [
    "import numpy as np\n",
    "from scipy.optimize import linprog\n",
    "\n",
    "def distance(point1, point2):\n",
    "    # 计算两点之间的距离，这里可以根据实际情况选择合适的距离计算方法\n",
    "    return np.sqrt((point1[0] - point2[0])**2 + (point1[1] - point2[1])**2)\n",
    "\n",
    "def resource_allocation_optimization(ci, dj, supply_locations, demand_locations):\n",
    "    n = len(ci)  # 供给地数目\n",
    "    m = len(dj)  # 需求地数目\n",
    "\n",
    "    # 构建目标函数系数向量 c\n",
    "    c = np.zeros(n * m)\n",
    "    for i, supply_loc in enumerate(supply_locations):\n",
    "        for j, demand_loc in enumerate(demand_locations):\n",
    "            c[i*m + j] = distance(supply_loc, demand_loc)\n",
    "\n",
    "    # 构建等式约束矩阵 A_eq 和右侧常数向量 b_eq\n",
    "    A_eq = np.zeros((m, n*m))\n",
    "    b_eq = dj\n",
    "    for i in range(m):\n",
    "        A_eq[i, i::m] = 1\n",
    "\n",
    "    # 构建不等式约束矩阵 A_ub 和右侧常数向量 b_ub\n",
    "    A_ub = np.zeros((n, n*m))\n",
    "    b_ub = ci\n",
    "    for i in range(n):\n",
    "        A_ub[i, i*m:(i+1)*m] = 1\n",
    "\n",
    "    # 定义变量的上下界\n",
    "    bounds = [(0, None) for _ in range(n*m)]\n",
    "\n",
    "    # 使用线性规划求解问题\n",
    "    result = linprog(c, A_eq=A_eq, b_eq=b_eq, A_ub=A_ub, b_ub=b_ub, bounds=bounds)\n",
    "\n",
    "    # 输出结果\n",
    "    xij = result.x.reshape(n, m)\n",
    "    total_cost = result.fun\n",
    "\n",
    "    return xij, total_cost\n",
    "\n",
    "# 示例输入数据\n",
    "ci = np.array([20,20])  # 供给地的资源量\n",
    "dj = np.array([3,5,4,7,6,11])  # 需求地的资源需求量\n",
    "supply_locations = [(5,1), (2,7)]  # 供给地的地理位置\n",
    "demand_locations = [(1.25,1.25),(8.75,0.75),(0.5,4.75),(5.75,5),(3,6.5),(7.25,7.25)]  # 需求地的地理位置\n",
    "\n",
    "# 求解资源分配问题\n",
    "xij, total_cost = resource_allocation_optimization(ci, dj, supply_locations, demand_locations)\n",
    "\n",
    "print(\"资源分配方案：\")\n",
    "print(xij)\n",
    "print(\"最小距离与资源运载量之积：\", total_cost)\n"
   ]
  },
  {
   "cell_type": "code",
   "execution_count": 2,
   "id": "95f10cf2",
   "metadata": {},
   "outputs": [
    {
     "name": "stdout",
     "output_type": "stream",
     "text": [
      "最优解: [3.00000000e+00 5.00000000e+00 4.00000000e+00 7.00000000e+00\n",
      " 1.00000000e+00 3.33429701e-15 8.63389187e-16 5.83928713e-16\n",
      " 1.22840006e-14 8.27021532e-16 5.00000000e+00 1.10000000e+01\n",
      " 5.69415991e+00 4.92569771e+00 7.24999995e+00 7.74999997e+00]\n",
      "最小成本: 89.88348555736768\n"
     ]
    }
   ],
   "source": [
    "#更改供给地位置，对资源分配进行进一步优化\n",
    "import numpy as np\n",
    "from scipy.optimize import minimize\n",
    "\n",
    "def nsd(x):\n",
    "    a = np.array([1.25, 8.75, 0.5, 5.75, 3, 7.25])\n",
    "    b = np.array([1.25, 0.75, 4.75, 5, 6.5, 7.75])\n",
    "    #s = np.zeros(12)\n",
    "    f1 = sum([np.sqrt((x[12] - a[i])**2 + (x[13] - b[i])**2) * x[i] for i in range(6)])\n",
    "    f2 = sum([np.sqrt((x[14] - a[i])**2 + (x[15] - b[i])**2) * x[i+6] for i in range(6)])\n",
    "    return f1 + f2\n",
    "\n",
    "x0 = np.array([3, 5, 0, 7, 0, 1, 0, 0, 4, 0, 6, 10, 5, 1, 2, 7])\n",
    "bounds = [(0, None)]*12 + [(None, None)]*4\n",
    "\n",
    "A = np.array([[1, 1, 1, 1, 1, 1, 0, 0, 0, 0, 0, 0, 0, 0, 0, 0],\n",
    "              [0, 0, 0, 0, 0, 0, 1, 1, 1, 1, 1, 1, 0, 0, 0, 0]])\n",
    "\n",
    "B = np.array([20, 20])\n",
    "\n",
    "Aeq = np.zeros((6, 16))\n",
    "for i in range(6):\n",
    "    Aeq[i, i] = 1\n",
    "    Aeq[i, i+6] = 1\n",
    "\n",
    "beq = np.array([3, 5, 4, 7, 6, 11])\n",
    "\n",
    "constraints = [{'type': 'eq', 'fun': lambda x, i=i :  Aeq[i] @ x - beq[i]} for i in range(Aeq.shape[0])]\n",
    "constraints += [{'type': 'ineq', 'fun': lambda x, i=i : B[i] - A[i] @ x} for i in range(A.shape[0])]\n",
    "\n",
    "res = minimize(nsd, x0, bounds=bounds, constraints=constraints)\n",
    "\n",
    "print('最优解:', res.x)\n",
    "print('最小成本:', res.fun)"
   ]
  },
  {
   "cell_type": "code",
   "execution_count": null,
   "id": "8cda0368",
   "metadata": {},
   "outputs": [],
   "source": []
  }
 ],
 "metadata": {
  "kernelspec": {
   "display_name": "Python 3 (ipykernel)",
   "language": "python",
   "name": "python3"
  },
  "language_info": {
   "codemirror_mode": {
    "name": "ipython",
    "version": 3
   },
   "file_extension": ".py",
   "mimetype": "text/x-python",
   "name": "python",
   "nbconvert_exporter": "python",
   "pygments_lexer": "ipython3",
   "version": "3.10.8"
  }
 },
 "nbformat": 4,
 "nbformat_minor": 5
}
