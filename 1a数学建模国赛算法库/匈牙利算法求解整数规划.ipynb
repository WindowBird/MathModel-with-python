{
 "cells": [
  {
   "cell_type": "code",
   "execution_count": 1,
   "id": "7e6a7caa",
   "metadata": {},
   "outputs": [
    {
     "name": "stdout",
     "output_type": "stream",
     "text": [
      "最优指派方案： [(1, 0), (0, 1), (2, 2)]\n"
     ]
    }
   ],
   "source": [
    "def hungarian_algorithm(cost_matrix):\n",
    "    \"\"\"\n",
    "    使用匈牙利算法解决指派问题\n",
    "\n",
    "    参数:\n",
    "        cost_matrix (list of lists): 成本矩阵，表示指派每个任务到每个工人的成本\n",
    "\n",
    "    返回:\n",
    "        assignments (list of tuples): 最优指派方案，每个元组表示一个指派 (worker, task)\n",
    "    \"\"\"\n",
    "    rows = len(cost_matrix)\n",
    "    cols = len(cost_matrix[0])\n",
    "\n",
    "    def find_assignment(worker):\n",
    "        for task in range(cols):\n",
    "            if not assigned[task] and cost_matrix[worker][task] == 0:\n",
    "                assigned[task] = True\n",
    "                if worker_matches[task] is None or find_assignment(worker_matches[task]):\n",
    "                    worker_matches[task] = worker\n",
    "                    return True\n",
    "        return False\n",
    "\n",
    "    # 在每一行中找到最小成本并将其减去，使得每一行都有至少一个零元素\n",
    "    for i in range(rows):\n",
    "        min_cost = min(cost_matrix[i])\n",
    "        for j in range(cols):\n",
    "            cost_matrix[i][j] -= min_cost\n",
    "\n",
    "    # 在每一列中找到最小成本并将其减去，使得每一列都有至少一个零元素\n",
    "    for j in range(cols):\n",
    "        min_cost = min(cost_matrix[i][j] for i in range(rows))\n",
    "        for i in range(rows):\n",
    "            cost_matrix[i][j] -= min_cost\n",
    "\n",
    "    assigned = [False] * cols\n",
    "    worker_matches = [None] * cols\n",
    "\n",
    "    for worker in range(rows):\n",
    "        assigned = [False] * cols\n",
    "        find_assignment(worker)\n",
    "\n",
    "    assignments = [(worker_matches[task], task) for task in range(cols) if worker_matches[task] is not None]\n",
    "    return assignments\n",
    "\n",
    "# 示例\n",
    "cost_matrix = [\n",
    "    [9, 11, 14],\n",
    "    [6, 15, 13],\n",
    "    [12, 13, 8]\n",
    "]\n",
    "\n",
    "assignments = hungarian_algorithm(cost_matrix)\n",
    "print(\"最优指派方案：\", assignments)\n",
    "\n"
   ]
  },
  {
   "cell_type": "code",
   "execution_count": null,
   "id": "e707e4e4",
   "metadata": {},
   "outputs": [],
   "source": []
  }
 ],
 "metadata": {
  "kernelspec": {
   "display_name": "Python 3 (ipykernel)",
   "language": "python",
   "name": "python3"
  },
  "language_info": {
   "codemirror_mode": {
    "name": "ipython",
    "version": 3
   },
   "file_extension": ".py",
   "mimetype": "text/x-python",
   "name": "python",
   "nbconvert_exporter": "python",
   "pygments_lexer": "ipython3",
   "version": "3.10.8"
  }
 },
 "nbformat": 4,
 "nbformat_minor": 5
}
