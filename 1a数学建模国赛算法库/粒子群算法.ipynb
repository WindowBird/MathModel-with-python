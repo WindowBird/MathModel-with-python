{
 "cells": [
  {
   "cell_type": "code",
   "execution_count": 1,
   "id": "276207fe",
   "metadata": {},
   "outputs": [
    {
     "data": {
      "image/png": "[encoded data removed]",
      "text/plain": [
       "<Figure size 640x480 with 1 Axes>"
      ]
     },
     "metadata": {},
     "output_type": "display_data"
    }
   ],
   "source": [
    "# -*- coding:utf-8 -*-\n",
    "import numpy as np\n",
    "import matplotlib.pyplot as plt\n",
    "import math\n",
    "\n",
    "def getweight():\n",
    "    # 惯性权重\n",
    "    weight = 1\n",
    "    return weight\n",
    "\n",
    "def getlearningrate():\n",
    "    # 分别是粒子的个体和社会的学习因子，也称为加速常数\n",
    "    lr = (0.49445,1.49445)\n",
    "    return lr\n",
    "\n",
    "def getmaxgen():\n",
    "    # 最大迭代次数\n",
    "    maxgen = 20\n",
    "    return maxgen\n",
    "\n",
    "def getsizepop():\n",
    "    # 种群规模\n",
    "    sizepop = 50\n",
    "    return sizepop\n",
    "\n",
    "def getrangepop():\n",
    "    # 粒子的位置的范围限制,x、y方向的限制相同\n",
    "    rangepop = (-2*math.pi , 2*math.pi)\n",
    "    #rangepop = (-2,2)\n",
    "    return rangepop\n",
    "\n",
    "def getrangespeed():\n",
    "    # 粒子的速度范围限制\n",
    "    rangespeed = (-0.5,0.5)\n",
    "    return rangespeed\n",
    "\n",
    "def func(x):\n",
    "    # x输入粒子位置\n",
    "    # y 粒子适应度值\n",
    "    if (x[0]==0)&(x[1]==0):\n",
    "        y = np.exp((np.cos(2*np.pi*x[0])+np.cos(2*np.pi*x[1]))/2)-2.71289\n",
    "    else:\n",
    "        y = np.sin(np.sqrt(x[0]**2+x[1]**2))/np.sqrt(x[0]**2+x[1]**2)+np.exp((np.cos(2*np.pi*x[0])+np.cos(2*np.pi*x[1]))/2)-2.71289\n",
    "    return y\n",
    "\n",
    "def initpopvfit(sizepop):\n",
    "    pop = np.zeros((sizepop,2))\n",
    "    v = np.zeros((sizepop,2))\n",
    "    fitness = np.zeros(sizepop)\n",
    "\n",
    "    for i in range(sizepop):\n",
    "        pop[i] = [(np.random.rand()-0.5)*rangepop[0]*2,(np.random.rand()-0.5)*rangepop[1]*2]\n",
    "        v[i] = [(np.random.rand()-0.5)*rangepop[0]*2,(np.random.rand()-0.5)*rangepop[1]*2]\n",
    "        fitness[i] = func(pop[i])\n",
    "    return pop,v,fitness\n",
    "\n",
    "def getinitbest(fitness,pop):\n",
    "    # 群体最优的粒子位置及其适应度值\n",
    "    gbestpop,gbestfitness = pop[fitness.argmax()].copy(),fitness.max()\n",
    "    #个体最优的粒子位置及其适应度值,使用copy()使得对pop的改变不影响pbestpop，pbestfitness类似\n",
    "    pbestpop,pbestfitness = pop.copy(),fitness.copy()\n",
    "\n",
    "    return gbestpop,gbestfitness,pbestpop,pbestfitness  \n",
    "\n",
    "w = getweight()\n",
    "lr = getlearningrate()\n",
    "maxgen = getmaxgen()\n",
    "sizepop = getsizepop()\n",
    "rangepop = getrangepop()\n",
    "rangespeed = getrangespeed()\n",
    "\n",
    "pop,v,fitness = initpopvfit(sizepop)\n",
    "gbestpop,gbestfitness,pbestpop,pbestfitness = getinitbest(fitness,pop)\n",
    "\n",
    "result = np.zeros(maxgen)\n",
    "for i in range(maxgen):\n",
    "        t=0.5\n",
    "        #速度更新\n",
    "        for j in range(sizepop):\n",
    "            v[j] += lr[0]*np.random.rand()*(pbestpop[j]-pop[j])+lr[1]*np.random.rand()*(gbestpop-pop[j])\n",
    "        v[v<rangespeed[0]] = rangespeed[0]\n",
    "        v[v>rangespeed[1]] = rangespeed[1]\n",
    "\n",
    "        #粒子位置更新\n",
    "        for j in range(sizepop):\n",
    "            #pop[j] += 0.5*v[j]\n",
    "            pop[j] = t*(0.5*v[j])+(1-t)*pop[j]\n",
    "        pop[pop<rangepop[0]] = rangepop[0]\n",
    "        pop[pop>rangepop[1]] = rangepop[1]\n",
    "\n",
    "        #适应度更新\n",
    "        for j in range(sizepop):\n",
    "            fitness[j] = func(pop[j])\n",
    "\n",
    "        for j in range(sizepop):\n",
    "            if fitness[j] > pbestfitness[j]:\n",
    "                pbestfitness[j] = fitness[j]\n",
    "                pbestpop[j] = pop[j].copy()\n",
    "\n",
    "        if pbestfitness.max() > gbestfitness :\n",
    "            gbestfitness = pbestfitness.max()\n",
    "            gbestpop = pop[pbestfitness.argmax()].copy()\n",
    "\n",
    "        result[i] = gbestfitness\n",
    "\n",
    "\n",
    "plt.plot(result)\n",
    "plt.show()"
   ]
  },
  {
   "cell_type": "code",
   "execution_count": 2,
   "id": "d28922c0",
   "metadata": {},
   "outputs": [
    {
     "data": {
      "text/plain": [
       "array([0.51744368, 0.51744368, 0.51744368, 0.98885325, 0.98885325,\n",
       "       0.98885325, 0.98885325, 1.00363772, 1.00363772, 1.00435015,\n",
       "       1.00435015, 1.00498527, 1.00498527, 1.0052142 , 1.00537065,\n",
       "       1.00537065, 1.005382  , 1.00538932, 1.00538932, 1.00539142])"
      ]
     },
     "execution_count": 2,
     "metadata": {},
     "output_type": "execute_result"
    }
   ],
   "source": [
    "result"
   ]
  },
  {
   "cell_type": "code",
   "execution_count": null,
   "id": "ef005a77",
   "metadata": {},
   "outputs": [],
   "source": []
  }
 ],
 "metadata": {
  "kernelspec": {
   "display_name": "Python 3 (ipykernel)",
   "language": "python",
   "name": "python3"
  },
  "language_info": {
   "codemirror_mode": {
    "name": "ipython",
    "version": 3
   },
   "file_extension": ".py",
   "mimetype": "text/x-python",
   "name": "python",
   "nbconvert_exporter": "python",
   "pygments_lexer": "ipython3",
   "version": "3.10.8"
  }
 },
 "nbformat": 4,
 "nbformat_minor": 5
}
