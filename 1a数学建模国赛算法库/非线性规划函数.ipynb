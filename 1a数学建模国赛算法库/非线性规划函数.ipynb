{
 "cells": [
  {
   "cell_type": "code",
   "execution_count": 1,
   "id": "868f0d3d",
   "metadata": {},
   "outputs": [
    {
     "name": "stdout",
     "output_type": "stream",
     "text": [
      "最优目标函数值： 10.651091840572583\n",
      "最优解： [0.55216734 1.20325918 0.94782404]\n"
     ]
    }
   ],
   "source": [
    "# 等式约束意味着约束函数结果为零，而不等式意味着约束函数结果为非负。请注意，COBYLA 仅支持不等式约束。\n",
    "import numpy as np\n",
    "from scipy.optimize import minimize\n",
    "\n",
    "def objective_function(x):\n",
    "    return x[0]**2 + x[1]**2+x[2]**2+8\n",
    "\n",
    "def constraint1(x):\n",
    "    return x[0]**2 - x[1]+x[2]**2\n",
    "\n",
    "def constraint2(x):\n",
    "    return -x[0] - x[1]**2-x[2]**2+20\n",
    "\n",
    "def constraint3(x):\n",
    "    return -x[0] - x[1]**2+2\n",
    "\n",
    "def constraint4(x):\n",
    "    return x[1]+2*x[2]**2-3\n",
    "\n",
    "# 定义初始猜测值\n",
    "x0 = [0, 0,0]\n",
    "\n",
    "bounds = [(0, None), (0, None), (0, None)]\n",
    "\n",
    "# 定义约束条件\n",
    "constraint1_args = {'type': 'ineq', 'fun': constraint1}\n",
    "constraint2_args = {'type': 'ineq', 'fun': constraint2}\n",
    "constraint3_args = {'type': 'eq', 'fun': constraint3}\n",
    "constraint4_args = {'type': 'eq', 'fun': constraint4}\n",
    "\n",
    "# 定义约束条件列表\n",
    "constraints = [constraint1_args, constraint2_args,constraint3_args, constraint4_args]\n",
    "\n",
    "# 使用minimize函数求解非线性规划问题\n",
    "result = minimize(objective_function, x0, method='SLSQP', constraints=constraints,bounds=bounds)\n",
    "\n",
    "# 输出结果\n",
    "print(\"最优目标函数值：\", result.fun)\n",
    "print(\"最优解：\", result.x)\n"
   ]
  },
  {
   "cell_type": "code",
   "execution_count": null,
   "id": "b2353d2f",
   "metadata": {},
   "outputs": [],
   "source": []
  }
 ],
 "metadata": {
  "kernelspec": {
   "display_name": "Python 3 (ipykernel)",
   "language": "python",
   "name": "python3"
  },
  "language_info": {
   "codemirror_mode": {
    "name": "ipython",
    "version": 3
   },
   "file_extension": ".py",
   "mimetype": "text/x-python",
   "name": "python",
   "nbconvert_exporter": "python",
   "pygments_lexer": "ipython3",
   "version": "3.10.8"
  }
 },
 "nbformat": 4,
 "nbformat_minor": 5
}
