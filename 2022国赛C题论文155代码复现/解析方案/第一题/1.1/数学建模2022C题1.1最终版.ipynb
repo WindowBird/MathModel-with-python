{
 "cells": [
  {
   "cell_type": "code",
   "execution_count": 1,
   "id": "117b0820",
   "metadata": {},
   "outputs": [
    {
     "data": {
      "text/html": [
       "<div>\n",
       "<style scoped>\n",
       "    .dataframe tbody tr th:only-of-type {\n",
       "        vertical-align: middle;\n",
       "    }\n",
       "\n",
       "    .dataframe tbody tr th {\n",
       "        vertical-align: top;\n",
       "    }\n",
       "\n",
       "    .dataframe thead th {\n",
       "        text-align: right;\n",
       "    }\n",
       "</style>\n",
       "<table border=\"1\" class=\"dataframe\">\n",
       "  <thead>\n",
       "    <tr style=\"text-align: right;\">\n",
       "      <th></th>\n",
       "      <th>特征</th>\n",
       "      <th>期望计数小于5的单元格数</th>\n",
       "      <th>最小期望计数</th>\n",
       "      <th>期望计数小于5的单元格数的比例</th>\n",
       "    </tr>\n",
       "  </thead>\n",
       "  <tbody>\n",
       "    <tr>\n",
       "      <th>0</th>\n",
       "      <td>类型</td>\n",
       "      <td>0</td>\n",
       "      <td>7.448276</td>\n",
       "      <td>0.000000</td>\n",
       "    </tr>\n",
       "    <tr>\n",
       "      <th>1</th>\n",
       "      <td>纹饰</td>\n",
       "      <td>2</td>\n",
       "      <td>2.482759</td>\n",
       "      <td>0.333333</td>\n",
       "    </tr>\n",
       "    <tr>\n",
       "      <th>2</th>\n",
       "      <td>颜色</td>\n",
       "      <td>12</td>\n",
       "      <td>0.444444</td>\n",
       "      <td>0.750000</td>\n",
       "    </tr>\n",
       "  </tbody>\n",
       "</table>\n",
       "</div>"
      ],
      "text/plain": [
       "   特征 期望计数小于5的单元格数    最小期望计数  期望计数小于5的单元格数的比例\n",
       "0  类型            0  7.448276         0.000000\n",
       "1  纹饰            2  2.482759         0.333333\n",
       "2  颜色           12  0.444444         0.750000"
      ]
     },
     "execution_count": 1,
     "metadata": {},
     "output_type": "execute_result"
    }
   ],
   "source": [
    "import pandas as pd\n",
    "import numpy as np\n",
    "\n",
    "# Load data\n",
    "xls = pd.ExcelFile(\"E:\\\\数学建模国赛\\\\2022数学建模赛题\\\\C题\\\\附件.xlsx\")\n",
    "\n",
    "\n",
    "# Load all sheets in the Excel file\n",
    "sheets = xls.sheet_names\n",
    "dfs = {}\n",
    "for sheet in sheets:\n",
    "    dfs[sheet] = pd.read_excel(xls, sheet)\n",
    "df1=dfs['表单1'].drop(columns=[\"文物编号\"])\n",
    "\n",
    "# 创建一个DataFrame来保存每个特征的计数信息\n",
    "count_info = pd.DataFrame(columns=['特征', '期望计数小于5的单元格数', \n",
    "                                   '最小期望计数', '期望计数小于5的单元格数的比例'])\n",
    "\n",
    "# 对每个特征进行卡方检验\n",
    "for column in ['类型', '纹饰', '颜色']:\n",
    "    # 删除含有空值的行\n",
    "    df_dropped_na = df1[['表面风化', column]].dropna()\n",
    "    \n",
    "    # 创建列联表\n",
    "    contingency_table = pd.crosstab(df_dropped_na['表面风化'], df_dropped_na[column])\n",
    "    \n",
    "    # 计算期望计数\n",
    "    row_totals = contingency_table.sum(axis=1)\n",
    "    col_totals = contingency_table.sum(axis=0)\n",
    "    total = contingency_table.sum().sum()\n",
    "    expected = np.outer(row_totals, col_totals) / total\n",
    "    \n",
    "    # 计算期望计数小于5的单元格数\n",
    "    cells_with_expected_count_less_than_5 = (expected < 5).sum()\n",
    "    \n",
    "    # 获取最小期望计数\n",
    "    min_expected_count = expected.min()\n",
    "    \n",
    "    # 计算期望计数小于5的单元格数的比例\n",
    "    ratio_cells_with_expected_count_less_than_5 = cells_with_expected_count_less_than_5 / (contingency_table.shape[0] * contingency_table.shape[1])\n",
    "    \n",
    "    # 将结果保存到DataFrame\n",
    "    count_info_to_append = pd.DataFrame({\n",
    "        '特征': [column],\n",
    "        '期望计数小于5的单元格数': [cells_with_expected_count_less_than_5],\n",
    "        '最小期望计数': [min_expected_count],\n",
    "        '期望计数小于5的单元格数的比例': [ratio_cells_with_expected_count_less_than_5]\n",
    "    })\n",
    "    \n",
    "    count_info = pd.concat([count_info, count_info_to_append], ignore_index=True)\n",
    "\n",
    "# 显示计数信息\n",
    "count_info\n"
   ]
  },
  {
   "cell_type": "code",
   "execution_count": 2,
   "id": "72c20404",
   "metadata": {},
   "outputs": [
    {
     "data": {
      "image/png": "[encoded data removed]",
      "text/plain": [
       "<Figure size 800x600 with 1 Axes>"
      ]
     },
     "metadata": {},
     "output_type": "display_data"
    }
   ],
   "source": [
    "import seaborn as sns\n",
    "import matplotlib.pyplot as plt\n",
    "plt.rcParams['font.sans-serif'] = ['SimHei']\n",
    "p_values = [0.009,0.084,0.507]\n",
    "p_values_df = pd.DataFrame({\n",
    "    'Feature': ['类型', '纹饰', '颜色'],\n",
    "    'p_value': p_values\n",
    "})\n",
    "# 创建图形\n",
    "plt.figure(figsize=(8, 6))\n",
    "bar_plot = sns.barplot(x='Feature', y='p_value', data=p_values_df)\n",
    "\n",
    "# 在条形顶部添加 p 值\n",
    "for i in range(p_values_df.shape[0]):\n",
    "    bar_plot.text(i, p_values_df.p_value[i], round(p_values_df.p_value[i], 3), ha='center')\n",
    "\n",
    "# 添加 p=0.05 的参考线\n",
    "plt.axhline(y=0.05, color='r', linestyle='--')\n",
    "\n",
    "# 设置标题和标签\n",
    "plt.title('卡方检验 p值')\n",
    "plt.ylabel('p值')\n",
    "\n",
    "# 显示图形\n",
    "plt.show()\n"
   ]
  },
  {
   "cell_type": "code",
   "execution_count": null,
   "id": "58845ae0",
   "metadata": {},
   "outputs": [],
   "source": []
  }
 ],
 "metadata": {
  "kernelspec": {
   "display_name": "Python 3 (ipykernel)",
   "language": "python",
   "name": "python3"
  },
  "language_info": {
   "codemirror_mode": {
    "name": "ipython",
    "version": 3
   },
   "file_extension": ".py",
   "mimetype": "text/x-python",
   "name": "python",
   "nbconvert_exporter": "python",
   "pygments_lexer": "ipython3",
   "version": "3.10.8"
  }
 },
 "nbformat": 4,
 "nbformat_minor": 5
}
