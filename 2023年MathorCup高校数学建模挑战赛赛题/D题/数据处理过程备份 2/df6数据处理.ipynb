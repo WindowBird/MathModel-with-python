{
 "cells": [
  {
   "cell_type": "code",
   "execution_count": 1,
   "id": "f5b2770d",
   "metadata": {},
   "outputs": [
    {
     "data": {
      "text/html": [
       "<div>\n",
       "<style scoped>\n",
       "    .dataframe tbody tr th:only-of-type {\n",
       "        vertical-align: middle;\n",
       "    }\n",
       "\n",
       "    .dataframe tbody tr th {\n",
       "        vertical-align: top;\n",
       "    }\n",
       "\n",
       "    .dataframe thead th {\n",
       "        text-align: right;\n",
       "    }\n",
       "</style>\n",
       "<table border=\"1\" class=\"dataframe\">\n",
       "  <thead>\n",
       "    <tr style=\"text-align: right;\">\n",
       "      <th></th>\n",
       "      <th>ALTITUDE (1013)</th>\n",
       "      <th>Inertial Vertical Speed</th>\n",
       "      <th>RADIO ALT</th>\n",
       "      <th>COMPUTED AIR SPD</th>\n",
       "      <th>GROUNDSPEED</th>\n",
       "      <th>GEAR SELECT DOWN</th>\n",
       "      <th>ROLL ATT</th>\n",
       "      <th>ROLL ATT.1</th>\n",
       "      <th>N1 SELTED-L</th>\n",
       "      <th>N1 SELTED-R</th>\n",
       "      <th>...</th>\n",
       "      <th>DEPARTURE_AIRPORT_5</th>\n",
       "      <th>DEPARTURE_AIRPORT_68</th>\n",
       "      <th>DEPARTURE_AIRPORT_73</th>\n",
       "      <th>DEPARTURE_AIRPORT_117</th>\n",
       "      <th>DEPARTURE_AIRPORT_118</th>\n",
       "      <th>DESTINATION_AIRPORTT_5</th>\n",
       "      <th>DESTINATION_AIRPORTT_68</th>\n",
       "      <th>DESTINATION_AIRPORTT_73</th>\n",
       "      <th>DESTINATION_AIRPORTT_117</th>\n",
       "      <th>DESTINATION_AIRPORTT_118</th>\n",
       "    </tr>\n",
       "  </thead>\n",
       "  <tbody>\n",
       "    <tr>\n",
       "      <th>0</th>\n",
       "      <td>135</td>\n",
       "      <td>-5</td>\n",
       "      <td>-8</td>\n",
       "      <td>30.0</td>\n",
       "      <td>8.00</td>\n",
       "      <td>0</td>\n",
       "      <td>0.0879</td>\n",
       "      <td>0.0879</td>\n",
       "      <td>21.4</td>\n",
       "      <td>21.4</td>\n",
       "      <td>...</td>\n",
       "      <td>0</td>\n",
       "      <td>1</td>\n",
       "      <td>0</td>\n",
       "      <td>0</td>\n",
       "      <td>0</td>\n",
       "      <td>0</td>\n",
       "      <td>0</td>\n",
       "      <td>0</td>\n",
       "      <td>1</td>\n",
       "      <td>0</td>\n",
       "    </tr>\n",
       "    <tr>\n",
       "      <th>1</th>\n",
       "      <td>136</td>\n",
       "      <td>-9</td>\n",
       "      <td>-8</td>\n",
       "      <td>30.0</td>\n",
       "      <td>8.25</td>\n",
       "      <td>0</td>\n",
       "      <td>0.0879</td>\n",
       "      <td>0.0879</td>\n",
       "      <td>21.4</td>\n",
       "      <td>21.5</td>\n",
       "      <td>...</td>\n",
       "      <td>0</td>\n",
       "      <td>1</td>\n",
       "      <td>0</td>\n",
       "      <td>0</td>\n",
       "      <td>0</td>\n",
       "      <td>0</td>\n",
       "      <td>0</td>\n",
       "      <td>0</td>\n",
       "      <td>1</td>\n",
       "      <td>0</td>\n",
       "    </tr>\n",
       "    <tr>\n",
       "      <th>2</th>\n",
       "      <td>136</td>\n",
       "      <td>-12</td>\n",
       "      <td>-8</td>\n",
       "      <td>30.0</td>\n",
       "      <td>8.25</td>\n",
       "      <td>0</td>\n",
       "      <td>0.0879</td>\n",
       "      <td>0.0879</td>\n",
       "      <td>21.4</td>\n",
       "      <td>21.5</td>\n",
       "      <td>...</td>\n",
       "      <td>0</td>\n",
       "      <td>1</td>\n",
       "      <td>0</td>\n",
       "      <td>0</td>\n",
       "      <td>0</td>\n",
       "      <td>0</td>\n",
       "      <td>0</td>\n",
       "      <td>0</td>\n",
       "      <td>1</td>\n",
       "      <td>0</td>\n",
       "    </tr>\n",
       "    <tr>\n",
       "      <th>3</th>\n",
       "      <td>135</td>\n",
       "      <td>-4</td>\n",
       "      <td>-8</td>\n",
       "      <td>30.0</td>\n",
       "      <td>8.25</td>\n",
       "      <td>0</td>\n",
       "      <td>0.0879</td>\n",
       "      <td>0.0879</td>\n",
       "      <td>21.4</td>\n",
       "      <td>21.5</td>\n",
       "      <td>...</td>\n",
       "      <td>0</td>\n",
       "      <td>1</td>\n",
       "      <td>0</td>\n",
       "      <td>0</td>\n",
       "      <td>0</td>\n",
       "      <td>0</td>\n",
       "      <td>0</td>\n",
       "      <td>0</td>\n",
       "      <td>1</td>\n",
       "      <td>0</td>\n",
       "    </tr>\n",
       "    <tr>\n",
       "      <th>4</th>\n",
       "      <td>136</td>\n",
       "      <td>-3</td>\n",
       "      <td>-8</td>\n",
       "      <td>30.0</td>\n",
       "      <td>8.50</td>\n",
       "      <td>0</td>\n",
       "      <td>0.0879</td>\n",
       "      <td>0.0879</td>\n",
       "      <td>21.4</td>\n",
       "      <td>21.5</td>\n",
       "      <td>...</td>\n",
       "      <td>0</td>\n",
       "      <td>1</td>\n",
       "      <td>0</td>\n",
       "      <td>0</td>\n",
       "      <td>0</td>\n",
       "      <td>0</td>\n",
       "      <td>0</td>\n",
       "      <td>0</td>\n",
       "      <td>1</td>\n",
       "      <td>0</td>\n",
       "    </tr>\n",
       "  </tbody>\n",
       "</table>\n",
       "<p>5 rows × 49 columns</p>\n",
       "</div>"
      ],
      "text/plain": [
       "   ALTITUDE (1013)  Inertial Vertical Speed  RADIO ALT  COMPUTED AIR SPD  \\\n",
       "0              135                       -5         -8              30.0   \n",
       "1              136                       -9         -8              30.0   \n",
       "2              136                      -12         -8              30.0   \n",
       "3              135                       -4         -8              30.0   \n",
       "4              136                       -3         -8              30.0   \n",
       "\n",
       "   GROUNDSPEED   GEAR SELECT DOWN  ROLL ATT  ROLL ATT.1  N1 SELTED-L  \\\n",
       "0         8.00                  0    0.0879      0.0879         21.4   \n",
       "1         8.25                  0    0.0879      0.0879         21.4   \n",
       "2         8.25                  0    0.0879      0.0879         21.4   \n",
       "3         8.25                  0    0.0879      0.0879         21.4   \n",
       "4         8.50                  0    0.0879      0.0879         21.4   \n",
       "\n",
       "   N1 SELTED-R  ...  DEPARTURE_AIRPORT_5  DEPARTURE_AIRPORT_68  \\\n",
       "0         21.4  ...                    0                     1   \n",
       "1         21.5  ...                    0                     1   \n",
       "2         21.5  ...                    0                     1   \n",
       "3         21.5  ...                    0                     1   \n",
       "4         21.5  ...                    0                     1   \n",
       "\n",
       "   DEPARTURE_AIRPORT_73  DEPARTURE_AIRPORT_117  DEPARTURE_AIRPORT_118  \\\n",
       "0                     0                      0                      0   \n",
       "1                     0                      0                      0   \n",
       "2                     0                      0                      0   \n",
       "3                     0                      0                      0   \n",
       "4                     0                      0                      0   \n",
       "\n",
       "   DESTINATION_AIRPORTT_5  DESTINATION_AIRPORTT_68  DESTINATION_AIRPORTT_73  \\\n",
       "0                       0                        0                        0   \n",
       "1                       0                        0                        0   \n",
       "2                       0                        0                        0   \n",
       "3                       0                        0                        0   \n",
       "4                       0                        0                        0   \n",
       "\n",
       "   DESTINATION_AIRPORTT_117  DESTINATION_AIRPORTT_118  \n",
       "0                         1                         0  \n",
       "1                         1                         0  \n",
       "2                         1                         0  \n",
       "3                         1                         0  \n",
       "4                         1                         0  \n",
       "\n",
       "[5 rows x 49 columns]"
      ]
     },
     "execution_count": 1,
     "metadata": {},
     "output_type": "execute_result"
    }
   ],
   "source": [
    "from sklearn.cluster import KMeans\n",
    "from sklearn.datasets import make_blobs\n",
    "from sklearn.feature_selection import mutual_info_classif\n",
    "from sklearn.feature_selection import chi2\n",
    "import numpy as np\n",
    "import pandas as pd\n",
    "\n",
    "# 读取 Excel 文件\n",
    "df6 = pd.read_excel('D:\\mathercup\\OneData6.xlsx')\n",
    "\n",
    "# 显示前几行数据+-\n",
    "df6.head()"
   ]
  },
  {
   "cell_type": "code",
   "execution_count": 2,
   "id": "9e1c1fa1",
   "metadata": {
    "scrolled": true
   },
   "outputs": [
    {
     "name": "stderr",
     "output_type": "stream",
     "text": [
      "D:\\py1.1\\envs\\pytorch\\lib\\site-packages\\sklearn\\cluster\\_kmeans.py:870: FutureWarning: The default value of `n_init` will change from 10 to 'auto' in 1.4. Set the value of `n_init` explicitly to suppress the warning\n",
      "  warnings.warn(\n"
     ]
    },
    {
     "data": {
      "text/html": [
       "<style>#sk-container-id-1 {color: black;background-color: white;}#sk-container-id-1 pre{padding: 0;}#sk-container-id-1 div.sk-toggleable {background-color: white;}#sk-container-id-1 label.sk-toggleable__label {cursor: pointer;display: block;width: 100%;margin-bottom: 0;padding: 0.3em;box-sizing: border-box;text-align: center;}#sk-container-id-1 label.sk-toggleable__label-arrow:before {content: \"▸\";float: left;margin-right: 0.25em;color: #696969;}#sk-container-id-1 label.sk-toggleable__label-arrow:hover:before {color: black;}#sk-container-id-1 div.sk-estimator:hover label.sk-toggleable__label-arrow:before {color: black;}#sk-container-id-1 div.sk-toggleable__content {max-height: 0;max-width: 0;overflow: hidden;text-align: left;background-color: #f0f8ff;}#sk-container-id-1 div.sk-toggleable__content pre {margin: 0.2em;color: black;border-radius: 0.25em;background-color: #f0f8ff;}#sk-container-id-1 input.sk-toggleable__control:checked~div.sk-toggleable__content {max-height: 200px;max-width: 100%;overflow: auto;}#sk-container-id-1 input.sk-toggleable__control:checked~label.sk-toggleable__label-arrow:before {content: \"▾\";}#sk-container-id-1 div.sk-estimator input.sk-toggleable__control:checked~label.sk-toggleable__label {background-color: #d4ebff;}#sk-container-id-1 div.sk-label input.sk-toggleable__control:checked~label.sk-toggleable__label {background-color: #d4ebff;}#sk-container-id-1 input.sk-hidden--visually {border: 0;clip: rect(1px 1px 1px 1px);clip: rect(1px, 1px, 1px, 1px);height: 1px;margin: -1px;overflow: hidden;padding: 0;position: absolute;width: 1px;}#sk-container-id-1 div.sk-estimator {font-family: monospace;background-color: #f0f8ff;border: 1px dotted black;border-radius: 0.25em;box-sizing: border-box;margin-bottom: 0.5em;}#sk-container-id-1 div.sk-estimator:hover {background-color: #d4ebff;}#sk-container-id-1 div.sk-parallel-item::after {content: \"\";width: 100%;border-bottom: 1px solid gray;flex-grow: 1;}#sk-container-id-1 div.sk-label:hover label.sk-toggleable__label {background-color: #d4ebff;}#sk-container-id-1 div.sk-serial::before {content: \"\";position: absolute;border-left: 1px solid gray;box-sizing: border-box;top: 0;bottom: 0;left: 50%;z-index: 0;}#sk-container-id-1 div.sk-serial {display: flex;flex-direction: column;align-items: center;background-color: white;padding-right: 0.2em;padding-left: 0.2em;position: relative;}#sk-container-id-1 div.sk-item {position: relative;z-index: 1;}#sk-container-id-1 div.sk-parallel {display: flex;align-items: stretch;justify-content: center;background-color: white;position: relative;}#sk-container-id-1 div.sk-item::before, #sk-container-id-1 div.sk-parallel-item::before {content: \"\";position: absolute;border-left: 1px solid gray;box-sizing: border-box;top: 0;bottom: 0;left: 50%;z-index: -1;}#sk-container-id-1 div.sk-parallel-item {display: flex;flex-direction: column;z-index: 1;position: relative;background-color: white;}#sk-container-id-1 div.sk-parallel-item:first-child::after {align-self: flex-end;width: 50%;}#sk-container-id-1 div.sk-parallel-item:last-child::after {align-self: flex-start;width: 50%;}#sk-container-id-1 div.sk-parallel-item:only-child::after {width: 0;}#sk-container-id-1 div.sk-dashed-wrapped {border: 1px dashed gray;margin: 0 0.4em 0.5em 0.4em;box-sizing: border-box;padding-bottom: 0.4em;background-color: white;}#sk-container-id-1 div.sk-label label {font-family: monospace;font-weight: bold;display: inline-block;line-height: 1.2em;}#sk-container-id-1 div.sk-label-container {text-align: center;}#sk-container-id-1 div.sk-container {/* jupyter's `normalize.less` sets `[hidden] { display: none; }` but bootstrap.min.css set `[hidden] { display: none !important; }` so we also need the `!important` here to be able to override the default hidden behavior on the sphinx rendered scikit-learn.org. See: https://github.com/scikit-learn/scikit-learn/issues/21755 */display: inline-block !important;position: relative;}#sk-container-id-1 div.sk-text-repr-fallback {display: none;}</style><div id=\"sk-container-id-1\" class=\"sk-top-container\"><div class=\"sk-text-repr-fallback\"><pre>KMeans(n_clusters=3, random_state=42)</pre><b>In a Jupyter environment, please rerun this cell to show the HTML representation or trust the notebook. <br />On GitHub, the HTML representation is unable to render, please try loading this page with nbviewer.org.</b></div><div class=\"sk-container\" hidden><div class=\"sk-item\"><div class=\"sk-estimator sk-toggleable\"><input class=\"sk-toggleable__control sk-hidden--visually\" id=\"sk-estimator-id-1\" type=\"checkbox\" checked><label for=\"sk-estimator-id-1\" class=\"sk-toggleable__label sk-toggleable__label-arrow\">KMeans</label><div class=\"sk-toggleable__content\"><pre>KMeans(n_clusters=3, random_state=42)</pre></div></div></div></div></div>"
      ],
      "text/plain": [
       "KMeans(n_clusters=3, random_state=42)"
      ]
     },
     "execution_count": 2,
     "metadata": {},
     "output_type": "execute_result"
    }
   ],
   "source": [
    "kmeans = KMeans(n_clusters=3, random_state=42)\n",
    "kmeans.fit(df6)"
   ]
  },
  {
   "cell_type": "code",
   "execution_count": 3,
   "id": "6225ac76",
   "metadata": {},
   "outputs": [
    {
     "data": {
      "text/plain": [
       "array([1, 1, 1, ..., 0, 0, 0])"
      ]
     },
     "execution_count": 3,
     "metadata": {},
     "output_type": "execute_result"
    }
   ],
   "source": [
    "labels = kmeans.labels_\n",
    "labels"
   ]
  },
  {
   "cell_type": "code",
   "execution_count": 8,
   "id": "5947b80e",
   "metadata": {},
   "outputs": [],
   "source": [
    "mutual_info_scores = mutual_info_classif(df6, labels)"
   ]
  },
  {
   "cell_type": "code",
   "execution_count": 16,
   "id": "83d8009a",
   "metadata": {},
   "outputs": [
    {
     "name": "stdout",
     "output_type": "stream",
     "text": [
      "Feature 0 Mutual Information: 0.6162\n",
      "Feature 1 Mutual Information: 0.0917\n",
      "Feature 2 Mutual Information: 0.1129\n",
      "Feature 3 Mutual Information: 0.3990\n",
      "Feature 4 Mutual Information: 0.2289\n",
      "Feature 5 Mutual Information: 0.0479\n",
      "Feature 6 Mutual Information: 0.0536\n",
      "Feature 7 Mutual Information: 0.0581\n",
      "Feature 8 Mutual Information: 0.3063\n",
      "Feature 9 Mutual Information: 0.3056\n",
      "Feature 10 Mutual Information: 0.7034\n",
      "Feature 11 Mutual Information: 0.1503\n",
      "Feature 12 Mutual Information: 0.0957\n",
      "Feature 13 Mutual Information: 0.0423\n",
      "Feature 14 Mutual Information: 0.0530\n",
      "Feature 15 Mutual Information: 0.4664\n",
      "Feature 16 Mutual Information: 0.4658\n",
      "Feature 17 Mutual Information: 0.4695\n",
      "Feature 18 Mutual Information: 0.4703\n",
      "Feature 19 Mutual Information: 0.0338\n",
      "Feature 20 Mutual Information: 0.0153\n",
      "Feature 21 Mutual Information: 0.0172\n",
      "Feature 22 Mutual Information: 1.0772\n",
      "Feature 23 Mutual Information: 0.0011\n",
      "Feature 24 Mutual Information: 0.0431\n",
      "Feature 25 Mutual Information: 0.0382\n",
      "Feature 26 Mutual Information: 0.0448\n",
      "Feature 27 Mutual Information: 0.1615\n",
      "Feature 28 Mutual Information: 0.1609\n",
      "Feature 29 Mutual Information: 0.0251\n",
      "Feature 30 Mutual Information: 0.3589\n",
      "Feature 31 Mutual Information: 0.0243\n",
      "Feature 32 Mutual Information: 0.0425\n",
      "Feature 33 Mutual Information: 0.0310\n",
      "Feature 34 Mutual Information: 0.0538\n",
      "Feature 35 Mutual Information: 0.0416\n",
      "Feature 36 Mutual Information: 0.1099\n",
      "Feature 37 Mutual Information: 0.1582\n",
      "Feature 38 Mutual Information: 0.0905\n",
      "Feature 39 Mutual Information: 0.0516\n",
      "Feature 40 Mutual Information: 0.0154\n",
      "Feature 41 Mutual Information: 0.0371\n",
      "Feature 42 Mutual Information: 0.0203\n",
      "Feature 43 Mutual Information: 0.0160\n",
      "Feature 44 Mutual Information: 0.0483\n",
      "Feature 45 Mutual Information: 0.0158\n",
      "Feature 46 Mutual Information: 0.0324\n",
      "Feature 47 Mutual Information: 0.0090\n",
      "Feature 48 Mutual Information: 0.0459\n"
     ]
    }
   ],
   "source": [
    "for i in range(df6.shape[1]):\n",
    "    print(\"Feature {} Mutual Information: {:.4f}\".format(i, mutual_info_scores[i]))"
   ]
  },
  {
   "cell_type": "code",
   "execution_count": 12,
   "id": "e443783a",
   "metadata": {},
   "outputs": [
    {
     "name": "stdout",
     "output_type": "stream",
     "text": [
      "Selected Features Indices:  [22, 10, 0, 18, 17, 15, 16, 3, 30, 8]\n"
     ]
    }
   ],
   "source": [
    "# 排序并选择前10个互信息值最大的特征\n",
    "selected_features_indices = sorted(range(df6.shape[1]), key=lambda i: mutual_info_scores[i], reverse=True)[:10]\n",
    "\n",
    "# 输出选择的特征索引\n",
    "print(\"Selected Features Indices: \", selected_features_indices)"
   ]
  },
  {
   "cell_type": "code",
   "execution_count": 15,
   "id": "2dbac333",
   "metadata": {},
   "outputs": [
    {
     "name": "stdout",
     "output_type": "stream",
     "text": [
      "Feature names from file:  ['ALTITUDE (1013)', 'Inertial Vertical Speed', 'RADIO ALT', 'COMPUTED AIR SPD', 'GROUNDSPEED', ' GEAR SELECT DOWN', 'ROLL ATT', 'ROLL ATT.1', 'N1 SELTED-L', 'N1 SELTED-R', 'MAGNETIC HEADING', 'WIND DIR(ADIRU)', 'WIND SPD(ADIRU)', 'A/T ENGAGED', 'ANY A/P ENGAGED', 'TRA-L', 'TRA-L.1', 'TRA-R', 'TRA-R.1', 'RUDD POSN', 'PITCH ATT RATE', 'PITCH ATT RATE.1', 'FMF GROSS WEIGHT', 'WOW INDICATE INAIR_STD', 'WOW INDICATE INAIR_MEAN', 'COG NORM ACCEL_STD', 'COG NORM ACCEL_MEAN', 'RMS_LOCALIZER', 'RMS_GLIDESLOPE', 'PITCH ATTL_STD', 'PITCH ATT_MEAN', 'CAP CLM 1 POSN_STD', 'CAP CLM 1 POSN_MEAN', 'CAP WHL 1 POSN_STD', 'CAP WHL 1 POSN_MEAN', 'DATE: DAY_7', 'DATE: DAY_8', 'DATE: DAY_9', 'DATE: DAY_10', 'DEPARTURE_AIRPORT_5', 'DEPARTURE_AIRPORT_68', 'DEPARTURE_AIRPORT_73', 'DEPARTURE_AIRPORT_117', 'DEPARTURE_AIRPORT_118', 'DESTINATION_AIRPORTT_5', 'DESTINATION_AIRPORTT_68', 'DESTINATION_AIRPORTT_73', 'DESTINATION_AIRPORTT_117', 'DESTINATION_AIRPORTT_118']\n"
     ]
    }
   ],
   "source": [
    "\n",
    "# 获取特征名称列表\n",
    "feature_names = df6.columns.tolist()\n",
    "print(\"Feature names from file: \", feature_names)\n"
   ]
  },
  {
   "cell_type": "code",
   "execution_count": 18,
   "id": "b156dddf",
   "metadata": {},
   "outputs": [
    {
     "data": {
      "text/plain": [
       "{'FMF GROSS WEIGHT': 1.0772040072225644,\n",
       " 'MAGNETIC HEADING': 0.7033938576718883,\n",
       " 'ALTITUDE (1013)': 0.6161810329581932,\n",
       " 'TRA-R.1': 0.4702851787321869,\n",
       " 'TRA-R': 0.46954438749493677,\n",
       " 'TRA-L': 0.4664298446926787,\n",
       " 'TRA-L.1': 0.4658418133645956,\n",
       " 'COMPUTED AIR SPD': 0.398997384815331,\n",
       " 'PITCH ATT_MEAN': 0.3588688236763906,\n",
       " 'N1 SELTED-L': 0.30631984567708614}"
      ]
     },
     "execution_count": 18,
     "metadata": {},
     "output_type": "execute_result"
    }
   ],
   "source": [
    "mutual_info_dict = {feature_names[i]: mutual_info_scores[i] for i in selected_features_indices}\n",
    "mutual_info_dict"
   ]
  },
  {
   "cell_type": "code",
   "execution_count": null,
   "id": "9d72e2df",
   "metadata": {},
   "outputs": [],
   "source": []
  }
 ],
 "metadata": {
  "kernelspec": {
   "display_name": "Python 3 (ipykernel)",
   "language": "python",
   "name": "python3"
  },
  "language_info": {
   "codemirror_mode": {
    "name": "ipython",
    "version": 3
   },
   "file_extension": ".py",
   "mimetype": "text/x-python",
   "name": "python",
   "nbconvert_exporter": "python",
   "pygments_lexer": "ipython3",
   "version": "3.10.8"
  }
 },
 "nbformat": 4,
 "nbformat_minor": 5
}
