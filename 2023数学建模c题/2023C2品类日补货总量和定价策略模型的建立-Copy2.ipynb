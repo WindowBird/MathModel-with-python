{
 "cells": [
  {
   "cell_type": "code",
   "execution_count": 1,
   "id": "813e6ac7",
   "metadata": {},
   "outputs": [],
   "source": [
    "import pandas as pd\n",
    "\n",
    "# 加载Excel文件\n",
    "xls = pd.ExcelFile(\"E:\\\\数学建模国赛2023选题\\\\C题\\\\第二题建模约束参数.xlsx\")\n"
   ]
  },
  {
   "cell_type": "code",
   "execution_count": 2,
   "id": "977fa37d",
   "metadata": {},
   "outputs": [
    {
     "data": {
      "text/plain": [
       "{'Model_Params':            a         b   星期   分类名称\n",
       " 0  84.277492  0.974480  星期三  水生根茎类\n",
       " 1  81.092421  1.009424  星期三    花叶类\n",
       " 2  14.822394  1.011291  星期三    花菜类\n",
       " 3  25.241518  0.999187  星期三     茄类\n",
       " 4  61.474034  1.000100  星期三    辣椒类,\n",
       " 'Markup_Bounds':     分类名称  lower_bound  upper_bound\n",
       " 0  水生根茎类    44.059830    96.064736\n",
       " 1    花叶类    55.054544    97.460568\n",
       " 2    花菜类    36.620075    83.754887\n",
       " 3     茄类    43.469963   134.360511\n",
       " 4    辣椒类    46.272717   148.951008,\n",
       " 'Sales_Bounds':     分类名称  lower_bound  upper_bound\n",
       " 0  水生根茎类      4.82050     91.51175\n",
       " 1    花叶类    105.64975    289.32900\n",
       " 2    花菜类      8.09800     79.35975\n",
       " 3     茄类     12.86075     51.80800\n",
       " 4    辣椒类     33.14950    151.92225,\n",
       " 'Daily_Sales_Bounds':    lower_bound  upper_bound\n",
       " 0    228.75775    650.33475}"
      ]
     },
     "execution_count": 2,
     "metadata": {},
     "output_type": "execute_result"
    }
   ],
   "source": [
    "# 查看Excel文件中各个sheet的前几行数据以了解结构和列名\n",
    "sheet_names = xls.sheet_names\n",
    "\n",
    "# 存储每个sheet的前几行数据\n",
    "sheet_previews = {}\n",
    "\n",
    "for sheet in sheet_names:\n",
    "    sheet_previews[sheet] = pd.read_excel(xls, sheet).head()\n",
    "\n",
    "sheet_previews\n"
   ]
  },
  {
   "cell_type": "code",
   "execution_count": 3,
   "id": "7476c480",
   "metadata": {},
   "outputs": [],
   "source": [
    "model_params = pd.read_excel(xls, 'Model_Params')\n",
    "\n",
    "# 读取成本加价范围约束\n",
    "markup_bounds = pd.read_excel(xls, 'Markup_Bounds')\n",
    "\n",
    "# 读取销量范围约束\n",
    "sales_bounds = pd.read_excel(xls, 'Sales_Bounds')\n",
    "\n",
    "# 读取每日销售总量约束\n",
    "daily_sales_bounds = pd.read_excel(xls, 'Daily_Sales_Bounds')"
   ]
  },
  {
   "cell_type": "code",
   "execution_count": 4,
   "id": "9378e2fc",
   "metadata": {},
   "outputs": [
    {
     "name": "stdout",
     "output_type": "stream",
     "text": [
      "Requirement already satisfied: pyswarm in d:\\py1.1\\envs\\pytorch\\lib\\site-packages (0.6)\n",
      "Requirement already satisfied: numpy in d:\\py1.1\\envs\\pytorch\\lib\\site-packages (from pyswarm) (1.23.4)\n"
     ]
    }
   ],
   "source": [
    "!pip install pyswarm"
   ]
  },
  {
   "cell_type": "code",
   "execution_count": 5,
   "id": "25d62539",
   "metadata": {},
   "outputs": [],
   "source": [
    "import numpy as np\n",
    "from pyswarm import pso\n",
    "\n",
    "# 定义目标函数\n",
    "def objective(X):\n",
    "    x = X[:42]\n",
    "    y = X[42:]\n",
    "    return -np.sum(x * y)\n",
    "\n",
    "# 从Excel读取的模型参数和约束条件\n",
    "a_values = model_params['a'].values\n",
    "b_values = model_params['b'].values\n",
    "\n",
    "markup_lower_bound = markup_bounds['lower_bound'].values\n",
    "markup_upper_bound = markup_bounds['upper_bound'].values\n",
    "\n",
    "sales_lower_bound = sales_bounds['lower_bound'].values\n",
    "sales_upper_bound = sales_bounds['upper_bound'].values\n",
    "\n",
    "daily_sales_lower_bound = daily_sales_bounds['lower_bound'].values[0]\n",
    "daily_sales_upper_bound = daily_sales_bounds['upper_bound'].values[0]"
   ]
  },
  {
   "cell_type": "code",
   "execution_count": 6,
   "id": "7fa9d184",
   "metadata": {},
   "outputs": [
    {
     "data": {
      "text/plain": [
       "(array([ 84.277,  81.092,  14.822,  25.242,  61.474,  37.374,  71.976,\n",
       "        151.796,  11.087,  26.986,  40.648,  38.869,  39.525,  77.623,\n",
       "          4.725,  27.216,  32.784,  35.459, 128.708, 159.5  ,  14.82 ,\n",
       "         45.058,  67.346,  47.863,  22.573, 133.643,   9.753,  34.378,\n",
       "         66.992,  55.238, 103.486,  78.828,  13.512,  28.868,  54.179,\n",
       "         38.839,  76.971, 169.65 ,   9.583,  22.7  ,  46.647,  27.557]),\n",
       " array([0.974, 1.009, 1.011, 0.999, 1.   , 1.   , 0.975, 1.001, 1.018,\n",
       "        0.999, 1.006, 1.   , 0.987, 1.01 , 1.032, 1.   , 1.009, 1.002,\n",
       "        0.974, 1.004, 1.018, 0.996, 1.003, 1.002, 1.002, 1.006, 1.025,\n",
       "        1.   , 1.003, 1.   , 0.972, 1.01 , 1.013, 0.999, 1.001, 1.   ,\n",
       "        0.977, 0.999, 1.02 , 1.   , 1.003, 1.004]),\n",
       " array([44.06 , 55.055, 36.62 , 43.47 , 46.273, 45.747]),\n",
       " array([ 96.065,  97.461,  83.755, 134.361, 148.951,  89.779]),\n",
       " array([  4.82 , 105.65 ,   8.098,  12.861,  33.15 ,  24.312]),\n",
       " array([ 91.512, 289.329,  79.36 ,  51.808, 151.922,  72.901]),\n",
       " 228.758,\n",
       " 650.335)"
      ]
     },
     "execution_count": 6,
     "metadata": {},
     "output_type": "execute_result"
    }
   ],
   "source": [
    "# 使用NumPy的round函数，设置小数点后3位\n",
    "a_values_rounded = np.round(a_values, 3)\n",
    "b_values_rounded = np.round(b_values, 3)\n",
    "markup_lower_bound_rounded = np.round(markup_lower_bound, 3)\n",
    "markup_upper_bound_rounded = np.round(markup_upper_bound, 3)\n",
    "sales_lower_bound_rounded = np.round(sales_lower_bound, 3)\n",
    "sales_upper_bound_rounded = np.round(sales_upper_bound, 3)\n",
    "daily_sales_lower_bound_rounded = np.round(daily_sales_lower_bound, 3)\n",
    "daily_sales_upper_bound_rounded = np.round(daily_sales_upper_bound, 3)\n",
    "\n",
    "a_values_rounded, b_values_rounded, markup_lower_bound_rounded, markup_upper_bound_rounded, sales_lower_bound_rounded, sales_upper_bound_rounded, daily_sales_lower_bound_rounded, daily_sales_upper_bound_rounded\n"
   ]
  },
  {
   "cell_type": "code",
   "execution_count": 10,
   "id": "de617db4",
   "metadata": {},
   "outputs": [
    {
     "name": "stdout",
     "output_type": "stream",
     "text": [
      "Stopping search: maximum iterations reached --> 100\n",
      "However, the optimization couldn't find a feasible design. Sorry\n"
     ]
    },
    {
     "data": {
      "text/plain": [
       "(array([71.67293983, 72.66106745, 98.78826457,  6.63756658, 97.5438113 ,\n",
       "         2.38511962,  5.69528123, 98.57215494, 34.41511982, 14.81563134,\n",
       "        90.92095504, 72.1389436 , 76.07606455, 81.54772742, 22.99083434,\n",
       "        90.68441584,  2.52262133, 59.48606238, 80.35221397, 15.62550165,\n",
       "        41.03447229, 37.09502591, 79.96136596, 22.44048986, 87.41753641,\n",
       "        38.20105835, 15.74688953, 81.40806608, 78.84156297,  2.93722227,\n",
       "         4.23538891, 95.38732575, 14.91598739, 73.62413513, 17.8972844 ,\n",
       "        39.40604249, 43.63320906, 62.24220746, 12.03670615, 86.55030871,\n",
       "        59.15365668, 46.31885067, 34.94816503, 89.76714344, 39.37190366,\n",
       "        15.44706813, 14.50762329, 23.9296024 , 43.10452346, 92.5672462 ,\n",
       "        87.23517394, 97.90104026, 42.36676042, 88.59464887, 86.68685453,\n",
       "        35.55757167, 99.30125618, 36.03163592,  5.48710712, 52.25463808,\n",
       "        27.64406116, 60.02057596, 21.6745658 , 49.17615746, 10.13320177,\n",
       "        36.99658726, 69.68414625, 99.18804435, 73.87844602, 69.01147966,\n",
       "        43.32268985, 42.0871198 , 57.05407119, 87.96234373, 80.21857759,\n",
       "        94.83145221, 57.52037823, 21.55202781,  6.47439548, 30.48096261,\n",
       "        56.35600206, 21.50772896, 37.48002703, 89.14026493]),\n",
       " 1e+100)"
      ]
     },
     "execution_count": 10,
     "metadata": {},
     "output_type": "execute_result"
    }
   ],
   "source": [
    "# 定义约束函数\n",
    "def constraints(X):\n",
    "    # 初始化约束列表\n",
    "    con = []\n",
    "    \n",
    "    # 42个模型软约束\n",
    "    epsilon = 0.1  # 选择一个合适的epsilon值\n",
    "    x = X[:42]\n",
    "    y = X[42:]\n",
    "    for i in range(42):\n",
    "        con.append(abs(y[i] - a_values[i] * np.exp(b_values[i] * x[i])) - epsilon)\n",
    "\n",
    "    \n",
    "    \n",
    "    # 12个成本加价范围约束\n",
    "    for i in range(6):\n",
    "        con.append(markup_lower_bound[i] - np.min(x[i*7:i*7+7]))\n",
    "        con.append(np.max(x[i*7:i*7+7]) - markup_upper_bound[i])\n",
    "        \n",
    "    # 12个销量范围约束\n",
    "    for i in range(6):\n",
    "        con.append(sales_lower_bound[i] - np.min(y[i*7:i*7+7]))\n",
    "        con.append(np.max(y[i*7:i*7+7]) - sales_upper_bound[i])\n",
    "        \n",
    "    # 每日销售总量的上下界约束\n",
    "    con.append(daily_sales_upper_bound - np.sum(y))\n",
    "    con.append(np.sum(y) - daily_sales_lower_bound)\n",
    "    \n",
    "    return con\n",
    "\n",
    "# 参数范围：x和y都在0-100之间（可根据实际情况调整）\n",
    "lb = [0]*84\n",
    "ub = [100]*84\n",
    "\n",
    "# 使用PSO算法进行优化\n",
    "xopt, fopt = pso(objective, lb, ub, f_ieqcons=constraints)\n",
    "\n",
    "xopt, fopt\n",
    " "
   ]
  },
  {
   "cell_type": "code",
   "execution_count": null,
   "id": "d5a9ea35",
   "metadata": {},
   "outputs": [],
   "source": []
  }
 ],
 "metadata": {
  "kernelspec": {
   "display_name": "Python 3 (ipykernel)",
   "language": "python",
   "name": "python3"
  },
  "language_info": {
   "codemirror_mode": {
    "name": "ipython",
    "version": 3
   },
   "file_extension": ".py",
   "mimetype": "text/x-python",
   "name": "python",
   "nbconvert_exporter": "python",
   "pygments_lexer": "ipython3",
   "version": "3.10.8"
  }
 },
 "nbformat": 4,
 "nbformat_minor": 5
}
