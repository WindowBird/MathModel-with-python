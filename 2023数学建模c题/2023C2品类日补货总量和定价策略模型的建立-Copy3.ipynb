{
 "cells": [
  {
   "cell_type": "code",
   "execution_count": 1,
   "id": "813e6ac7",
   "metadata": {},
   "outputs": [],
   "source": [
    "import pandas as pd\n",
    "import numpy as np\n",
    "# 加载Excel文件\n",
    "xls = pd.ExcelFile(\"E:\\\\数学建模国赛2023选题\\\\C题\\\\第二题建模约束参数.xlsx\")\n"
   ]
  },
  {
   "cell_type": "code",
   "execution_count": 2,
   "id": "977fa37d",
   "metadata": {},
   "outputs": [
    {
     "data": {
      "text/plain": [
       "{'Model_Params':            a         b   星期   分类名称\n",
       " 0  84.277492  0.974480  星期三  水生根茎类\n",
       " 1  81.092421  1.009424  星期三    花叶类\n",
       " 2  14.822394  1.011291  星期三    花菜类\n",
       " 3  25.241518  0.999187  星期三     茄类\n",
       " 4  61.474034  1.000100  星期三    辣椒类,\n",
       " 'Markup_Bounds':     分类名称  lower_bound  upper_bound\n",
       " 0  水生根茎类    44.059830    96.064736\n",
       " 1    花叶类    55.054544    97.460568\n",
       " 2    花菜类    36.620075    83.754887\n",
       " 3     茄类    43.469963   134.360511\n",
       " 4    辣椒类    46.272717   148.951008,\n",
       " 'Sales_Bounds':     分类名称  lower_bound  upper_bound\n",
       " 0  水生根茎类      4.82050     91.51175\n",
       " 1    花叶类    105.64975    289.32900\n",
       " 2    花菜类      8.09800     79.35975\n",
       " 3     茄类     12.86075     51.80800\n",
       " 4    辣椒类     33.14950    151.92225,\n",
       " 'Daily_Sales_Bounds':    lower_bound  upper_bound\n",
       " 0    228.75775    650.33475}"
      ]
     },
     "execution_count": 2,
     "metadata": {},
     "output_type": "execute_result"
    }
   ],
   "source": [
    "# 查看Excel文件中各个sheet的前几行数据以了解结构和列名\n",
    "sheet_names = xls.sheet_names\n",
    "\n",
    "# 存储每个sheet的前几行数据\n",
    "sheet_previews = {}\n",
    "\n",
    "for sheet in sheet_names:\n",
    "    sheet_previews[sheet] = pd.read_excel(xls, sheet).head()\n",
    "\n",
    "sheet_previews\n"
   ]
  },
  {
   "cell_type": "code",
   "execution_count": 3,
   "id": "7476c480",
   "metadata": {
    "scrolled": false
   },
   "outputs": [
    {
     "data": {
      "text/plain": [
       "(array([103.48582135,  78.8282481 ,  13.51245783,  28.86845876,\n",
       "         54.17890353,  38.8385542 ]),\n",
       " array([0.97243359, 1.00989859, 1.01349253, 0.99879302, 1.00122423,\n",
       "        0.99955113]),\n",
       " array([44.05983035, 55.05454389, 36.62007474, 43.46996296, 46.27271659,\n",
       "        45.74687858]),\n",
       " array([ 96.06473596,  97.4605679 ,  83.7548875 , 134.36051093,\n",
       "        148.95100802,  89.77916031]),\n",
       " array([  4.8205 , 105.64975,   8.098  ,  12.86075,  33.1495 ,  24.31175]),\n",
       " array([ 91.51175, 289.329  ,  79.35975,  51.808  , 151.92225,  72.90125]),\n",
       " 228.75775,\n",
       " 650.33475)"
      ]
     },
     "execution_count": 3,
     "metadata": {},
     "output_type": "execute_result"
    }
   ],
   "source": [
    "# 重新读取Excel文件中的各个表格，使用正确的工作表名称\n",
    "model_params_df = pd.read_excel(xls, 'Model_Params')\n",
    "markup_bounds_df = pd.read_excel(xls, 'Markup_Bounds')\n",
    "sales_bounds_df = pd.read_excel(xls, 'Sales_Bounds')\n",
    "daily_sales_bounds_df = pd.read_excel(xls, 'Daily_Sales_Bounds')\n",
    "\n",
    "# 从model_params表格中筛选出星期一的数据，并提取相应的a和b值\n",
    "model_params_week1 = model_params_df[model_params_df['星期'] == '星期一']\n",
    "a_values_week1 = model_params_week1['a'].values\n",
    "b_values_week1 = model_params_week1['b'].values\n",
    "\n",
    "# 从其他表格中提取约束参数\n",
    "markup_lower_bound = markup_bounds_df['lower_bound'].values\n",
    "markup_upper_bound = markup_bounds_df['upper_bound'].values\n",
    "sales_lower_bound = sales_bounds_df['lower_bound'].values\n",
    "sales_upper_bound = sales_bounds_df['upper_bound'].values\n",
    "daily_sales_lower_bound = daily_sales_bounds_df.loc[0, 'lower_bound']\n",
    "daily_sales_upper_bound = daily_sales_bounds_df.loc[0, 'upper_bound']\n",
    "\n",
    "a_values_week1, b_values_week1, markup_lower_bound, markup_upper_bound, sales_lower_bound, sales_upper_bound, daily_sales_lower_bound, daily_sales_upper_bound\n"
   ]
  },
  {
   "cell_type": "code",
   "execution_count": 4,
   "id": "24122ebc",
   "metadata": {},
   "outputs": [
    {
     "name": "stdout",
     "output_type": "stream",
     "text": [
      "Stopping search: maximum iterations reached --> 100\n",
      "Optimized variables are: [ 96.06473025  97.4605679   83.75488168 134.3587258  148.95100802\n",
      "  89.77916031  64.27655583 289.32711659  37.01173043  34.89623493\n",
      " 151.92225     72.90085064]\n",
      "Optimized objective is: 71335.17128608088\n"
     ]
    }
   ],
   "source": [
    "from pyswarm import pso\n",
    "\n",
    "# 定义目标函数（需要最大化，因此取负数进行最小化）\n",
    "def objective(vars):\n",
    "    x = vars[:6]\n",
    "    y = vars[6:]\n",
    "    return -np.sum(x * y)\n",
    "\n",
    "# 定义约束函数（返回值应为正数或零）\n",
    "def constraints(vars):\n",
    "    cons = []\n",
    "\n",
    "    # 添加6个模型约束（只针对星期一）\n",
    "    epsilon = 0.00001# 选择一个合适的epsilon值\n",
    "    for i in range(6):\n",
    "        cons.append(abs(vars[6+i] - a_values_week1[i] * np.exp(b_values_week1[i] * vars[i])) - epsilon)\n",
    "\n",
    "    # 添加12个范围约束（6个对于成本加价，6个对于销量）\n",
    "    for i in range(6):\n",
    "        cons.append(vars[i] - markup_lower_bound[i])\n",
    "        cons.append(markup_upper_bound[i] - vars[i])\n",
    "        cons.append(vars[6+i] - sales_lower_bound[i])\n",
    "        cons.append(sales_upper_bound[i] - vars[6+i])\n",
    "\n",
    "    # 添加每日销售总量的上下界约束（针对星期一）\n",
    "    cons.append(daily_sales_upper_bound - np.sum(vars[6:]))\n",
    "    cons.append(np.sum(vars[6:]) - daily_sales_lower_bound)\n",
    "\n",
    "    return cons\n",
    "\n",
    "# 设置变量界限\n",
    "lb = list(markup_lower_bound) + list(sales_lower_bound)\n",
    "ub = list(markup_upper_bound) + list(sales_upper_bound)\n",
    "\n",
    "# 运行粒子群优化\n",
    "xopt, fopt = pso(objective, lb, ub, f_ieqcons=constraints)\n",
    "\n",
    "# 打印结果\n",
    "print(\"Optimized variables are:\", xopt)\n",
    "print(\"Optimized objective is:\", -fopt)\n"
   ]
  },
  {
   "cell_type": "code",
   "execution_count": 5,
   "id": "a43dfe56",
   "metadata": {},
   "outputs": [
    {
     "data": {
      "text/plain": [
       "(array([ 96.06473025,  97.4605679 ,  83.75488168, 134.3587258 ,\n",
       "        148.95100802,  89.77916031,  64.27655583, 289.32711659,\n",
       "         37.01173043,  34.89623493, 151.92225   ,  72.90085064]),\n",
       " -71335.17128608088)"
      ]
     },
     "execution_count": 5,
     "metadata": {},
     "output_type": "execute_result"
    }
   ],
   "source": [
    "xopt, fopt"
   ]
  },
  {
   "cell_type": "code",
   "execution_count": null,
   "id": "c3026a6e",
   "metadata": {},
   "outputs": [],
   "source": []
  },
  {
   "cell_type": "code",
   "execution_count": null,
   "id": "385b8a0e",
   "metadata": {},
   "outputs": [],
   "source": []
  }
 ],
 "metadata": {
  "kernelspec": {
   "display_name": "Python 3 (ipykernel)",
   "language": "python",
   "name": "python3"
  },
  "language_info": {
   "codemirror_mode": {
    "name": "ipython",
    "version": 3
   },
   "file_extension": ".py",
   "mimetype": "text/x-python",
   "name": "python",
   "nbconvert_exporter": "python",
   "pygments_lexer": "ipython3",
   "version": "3.10.8"
  }
 },
 "nbformat": 4,
 "nbformat_minor": 5
}
