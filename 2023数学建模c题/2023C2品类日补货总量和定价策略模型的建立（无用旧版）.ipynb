{
 "cells": [
  {
   "cell_type": "code",
   "execution_count": 23,
   "id": "813e6ac7",
   "metadata": {},
   "outputs": [],
   "source": [
    "import pandas as pd\n",
    "\n",
    "# 加载Excel文件\n",
    "xls = pd.ExcelFile(\"E:\\\\数学建模国赛2023选题\\\\C题\\\\第二题建模约束参数.xlsx\")\n"
   ]
  },
  {
   "cell_type": "code",
   "execution_count": 24,
   "id": "977fa37d",
   "metadata": {},
   "outputs": [
    {
     "data": {
      "text/plain": [
       "{'Model_Params':            a         b   星期   分类名称\n",
       " 0  84.277492  0.974480  星期三  水生根茎类\n",
       " 1  81.092421  1.009424  星期三    花叶类\n",
       " 2  14.822394  1.011291  星期三    花菜类\n",
       " 3  25.241518  0.999187  星期三     茄类\n",
       " 4  61.474034  1.000100  星期三    辣椒类,\n",
       " 'Markup_Bounds':     分类名称  lower_bound  upper_bound\n",
       " 0  水生根茎类    44.059830    96.064736\n",
       " 1    花叶类    55.054544    97.460568\n",
       " 2    花菜类    36.620075    83.754887\n",
       " 3     茄类    43.469963   134.360511\n",
       " 4    辣椒类    46.272717   148.951008,\n",
       " 'Sales_Bounds':     分类名称  lower_bound  upper_bound\n",
       " 0  水生根茎类      4.82050     91.51175\n",
       " 1    花叶类    105.64975    289.32900\n",
       " 2    花菜类      8.09800     79.35975\n",
       " 3     茄类     12.86075     51.80800\n",
       " 4    辣椒类     33.14950    151.92225,\n",
       " 'Daily_Sales_Bounds':    lower_bound  upper_bound\n",
       " 0    228.75775    650.33475}"
      ]
     },
     "execution_count": 24,
     "metadata": {},
     "output_type": "execute_result"
    }
   ],
   "source": [
    "# 查看Excel文件中各个sheet的前几行数据以了解结构和列名\n",
    "sheet_names = xls.sheet_names\n",
    "\n",
    "# 存储每个sheet的前几行数据\n",
    "sheet_previews = {}\n",
    "\n",
    "for sheet in sheet_names:\n",
    "    sheet_previews[sheet] = pd.read_excel(xls, sheet).head()\n",
    "\n",
    "sheet_previews\n"
   ]
  },
  {
   "cell_type": "code",
   "execution_count": 25,
   "id": "7476c480",
   "metadata": {},
   "outputs": [],
   "source": [
    "model_params = pd.read_excel(xls, 'Model_Params')\n",
    "\n",
    "# 读取成本加价范围约束\n",
    "markup_bounds = pd.read_excel(xls, 'Markup_Bounds')\n",
    "\n",
    "# 读取销量范围约束\n",
    "sales_bounds = pd.read_excel(xls, 'Sales_Bounds')\n",
    "\n",
    "# 读取每日销售总量约束\n",
    "daily_sales_bounds = pd.read_excel(xls, 'Daily_Sales_Bounds')"
   ]
  },
  {
   "cell_type": "code",
   "execution_count": 26,
   "id": "9378e2fc",
   "metadata": {},
   "outputs": [
    {
     "name": "stdout",
     "output_type": "stream",
     "text": [
      "Requirement already satisfied: pyswarm in d:\\py1.1\\envs\\pytorch\\lib\\site-packages (0.6)\n",
      "Requirement already satisfied: numpy in d:\\py1.1\\envs\\pytorch\\lib\\site-packages (from pyswarm) (1.23.4)\n"
     ]
    }
   ],
   "source": [
    "!pip install pyswarm"
   ]
  },
  {
   "cell_type": "code",
   "execution_count": 28,
   "id": "de617db4",
   "metadata": {},
   "outputs": [
    {
     "name": "stdout",
     "output_type": "stream",
     "text": [
      "Stopping search: maximum iterations reached --> 100\n",
      "However, the optimization couldn't find a feasible design. Sorry\n"
     ]
    },
    {
     "data": {
      "text/plain": [
       "(array([ 48.40600179, 124.05933439,  46.72941072,  33.23376332,\n",
       "          2.16162518, 174.90979811,  91.4769874 , 117.75085243,\n",
       "        186.90790583,  27.11098536,  86.50609337, 112.26837569,\n",
       "        179.66080541, 111.384573  , 192.45057335,  22.57857448,\n",
       "          1.16979461, 103.6208476 , 103.49490914,  94.42614548,\n",
       "         89.21969449,  40.7422452 , 173.9483464 , 159.0163475 ,\n",
       "         65.55728177,  86.37463009,  10.04624924,  47.9117054 ,\n",
       "         45.59415381,  50.54196553, 189.3042607 , 107.67891822,\n",
       "        156.67006938, 124.97269898, 178.92704627,  28.61885366,\n",
       "          0.2209959 ,  56.04755793, 123.15074278, 141.53649882,\n",
       "         62.88724919,  89.35952213,  50.24867675,  83.50142605,\n",
       "        192.65679095,  16.58008315, 161.56324128,  47.39020088,\n",
       "        127.47856955, 103.83815321,  22.88108101, 107.81304973,\n",
       "         62.44699721,  25.4465675 , 102.2286415 , 104.70366422,\n",
       "        100.47441031, 186.25288691,  95.59916728,   5.37746779,\n",
       "          9.40420861,  58.42724205,  71.51350104, 149.03167353,\n",
       "         38.68767698, 149.5330918 , 135.89429208,   1.36267014,\n",
       "        121.76250952,  17.37990581,  85.53683232,   7.4855878 ,\n",
       "         89.83612522,  72.24690712,  53.15987675, 101.03405835,\n",
       "          9.86348798, 128.43480104,  49.84533819,  22.66079244,\n",
       "        131.52644079, 189.61024975, 144.3673621 ,  19.43893951]),\n",
       " 1e+100)"
      ]
     },
     "execution_count": 28,
     "metadata": {},
     "output_type": "execute_result"
    }
   ],
   "source": [
    "import numpy as np\n",
    "from pyswarm import pso\n",
    "\n",
    "# 定义目标函数\n",
    "def objective(X):\n",
    "    x = X[:42]\n",
    "    y = X[42:]\n",
    "    return -np.sum(x * y)\n",
    "\n",
    "# 从Excel读取的模型参数和约束条件\n",
    "a_values = model_params['a'].values\n",
    "b_values = model_params['b'].values\n",
    "\n",
    "markup_lower_bound = markup_bounds['lower_bound'].values\n",
    "markup_upper_bound = markup_bounds['upper_bound'].values\n",
    "\n",
    "sales_lower_bound = sales_bounds['lower_bound'].values\n",
    "sales_upper_bound = sales_bounds['upper_bound'].values\n",
    "\n",
    "daily_sales_lower_bound = daily_sales_bounds['lower_bound'].values[0]\n",
    "daily_sales_upper_bound = daily_sales_bounds['upper_bound'].values[0]\n",
    "\n",
    "# 定义约束函数\n",
    "def constraints(X):\n",
    "    # 初始化约束列表\n",
    "    con = []\n",
    "    \n",
    "    # 42个模型约束\n",
    "    x = X[:42]\n",
    "    y = X[42:]\n",
    "    con.extend(y - a_values * np.exp(b_values * x))\n",
    "    \n",
    "    # 12个成本加价范围约束\n",
    "    for i in range(6):\n",
    "        con.append(markup_lower_bound[i] - np.min(x[i*7:i*7+7]))\n",
    "        con.append(np.max(x[i*7:i*7+7]) - markup_upper_bound[i])\n",
    "        \n",
    "    # 12个销量范围约束\n",
    "    for i in range(6):\n",
    "        con.append(sales_lower_bound[i] - np.min(y[i*7:i*7+7]))\n",
    "        con.append(np.max(y[i*7:i*7+7]) - sales_upper_bound[i])\n",
    "        \n",
    "    # 每日销售总量的上下界约束\n",
    "    con.append(daily_sales_upper_bound - np.sum(y))\n",
    "    con.append(np.sum(y) - daily_sales_lower_bound)\n",
    "    \n",
    "    return con\n",
    "\n",
    "# 参数范围：x和y都在0-100之间（可根据实际情况调整）\n",
    "lb = [0]*84\n",
    "ub = [200]*84\n",
    "\n",
    "# 使用PSO算法进行优化\n",
    "xopt, fopt = pso(objective, lb, ub, f_ieqcons=constraints)\n",
    "\n",
    "xopt, fopt\n",
    " \n"
   ]
  },
  {
   "cell_type": "code",
   "execution_count": null,
   "id": "d5a9ea35",
   "metadata": {},
   "outputs": [],
   "source": []
  }
 ],
 "metadata": {
  "kernelspec": {
   "display_name": "Python 3 (ipykernel)",
   "language": "python",
   "name": "python3"
  },
  "language_info": {
   "codemirror_mode": {
    "name": "ipython",
    "version": 3
   },
   "file_extension": ".py",
   "mimetype": "text/x-python",
   "name": "python",
   "nbconvert_exporter": "python",
   "pygments_lexer": "ipython3",
   "version": "3.10.8"
  }
 },
 "nbformat": 4,
 "nbformat_minor": 5
}
