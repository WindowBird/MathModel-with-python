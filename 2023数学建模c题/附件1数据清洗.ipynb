{
 "cells": [
  {
   "cell_type": "code",
   "execution_count": 1,
   "id": "16e07043",
   "metadata": {},
   "outputs": [],
   "source": [
    "import pandas as pd\n",
    "\n",
    "# Load data\n",
    "xls1 = pd.ExcelFile(\"E:\\\\数学建模国赛2023选题\\\\C题\\\\附件1.xlsx\")\n",
    "df1=pd.read_excel(xls1)"
   ]
  },
  {
   "cell_type": "code",
   "execution_count": 2,
   "id": "059d03c0",
   "metadata": {},
   "outputs": [
    {
     "data": {
      "text/plain": [
       "(单品编码    0\n",
       " 单品名称    0\n",
       " 分类编码    0\n",
       " 分类名称    0\n",
       " dtype: int64,\n",
       "                单品编码          分类编码\n",
       " count  2.510000e+02  2.510000e+02\n",
       " mean   1.031908e+14  1.011010e+09\n",
       " std    1.048400e+12  2.915469e+02\n",
       " min    1.029000e+14  1.011010e+09\n",
       " 25%    1.029000e+14  1.011010e+09\n",
       " 50%    1.029000e+14  1.011011e+09\n",
       " 75%    1.029000e+14  1.011011e+09\n",
       " max    1.069740e+14  1.011011e+09)"
      ]
     },
     "execution_count": 2,
     "metadata": {},
     "output_type": "execute_result"
    }
   ],
   "source": [
    "# 检查df1是否有缺失值\n",
    "missing_values_df1 = df1.isnull().sum()\n",
    "\n",
    "# 检查df1的基本统计量以识别可能的异常值\n",
    "basic_stats_df1 = df1.describe()\n",
    "\n",
    "missing_values_df1, basic_stats_df1\n"
   ]
  },
  {
   "cell_type": "code",
   "execution_count": null,
   "id": "4ed362a9",
   "metadata": {},
   "outputs": [],
   "source": []
  }
 ],
 "metadata": {
  "kernelspec": {
   "display_name": "Python 3 (ipykernel)",
   "language": "python",
   "name": "python3"
  },
  "language_info": {
   "codemirror_mode": {
    "name": "ipython",
    "version": 3
   },
   "file_extension": ".py",
   "mimetype": "text/x-python",
   "name": "python",
   "nbconvert_exporter": "python",
   "pygments_lexer": "ipython3",
   "version": "3.10.8"
  }
 },
 "nbformat": 4,
 "nbformat_minor": 5
}
