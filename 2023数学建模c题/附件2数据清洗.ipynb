{
 "cells": [
  {
   "cell_type": "code",
   "execution_count": 1,
   "id": "3a2da8c0",
   "metadata": {},
   "outputs": [],
   "source": [
    "import pandas as pd\n",
    "\n",
    "# Load data\n",
    "xls2 = pd.ExcelFile(\"E:\\\\数学建模国赛2023选题\\\\C题\\\\附件2.xlsx\")"
   ]
  },
  {
   "cell_type": "code",
   "execution_count": 2,
   "id": "3dfac69c",
   "metadata": {},
   "outputs": [
    {
     "data": {
      "text/plain": [
       "<pandas.io.excel._base.ExcelFile at 0x1d258043160>"
      ]
     },
     "execution_count": 2,
     "metadata": {},
     "output_type": "execute_result"
    }
   ],
   "source": [
    "xls2"
   ]
  },
  {
   "cell_type": "code",
   "execution_count": 3,
   "id": "9e163435",
   "metadata": {},
   "outputs": [],
   "source": [
    "df2=pd.read_excel(xls2)"
   ]
  },
  {
   "cell_type": "code",
   "execution_count": 4,
   "id": "a66fa623",
   "metadata": {
    "scrolled": true
   },
   "outputs": [
    {
     "data": {
      "text/html": [
       "<div>\n",
       "<style scoped>\n",
       "    .dataframe tbody tr th:only-of-type {\n",
       "        vertical-align: middle;\n",
       "    }\n",
       "\n",
       "    .dataframe tbody tr th {\n",
       "        vertical-align: top;\n",
       "    }\n",
       "\n",
       "    .dataframe thead th {\n",
       "        text-align: right;\n",
       "    }\n",
       "</style>\n",
       "<table border=\"1\" class=\"dataframe\">\n",
       "  <thead>\n",
       "    <tr style=\"text-align: right;\">\n",
       "      <th></th>\n",
       "      <th>销售日期</th>\n",
       "      <th>扫码销售时间</th>\n",
       "      <th>单品编码</th>\n",
       "      <th>销量(千克)</th>\n",
       "      <th>销售单价(元/千克)</th>\n",
       "      <th>销售类型</th>\n",
       "      <th>是否打折销售</th>\n",
       "    </tr>\n",
       "  </thead>\n",
       "  <tbody>\n",
       "    <tr>\n",
       "      <th>0</th>\n",
       "      <td>2020-07-01</td>\n",
       "      <td>09:15:07.924</td>\n",
       "      <td>102900005117056</td>\n",
       "      <td>0.396</td>\n",
       "      <td>7.6</td>\n",
       "      <td>销售</td>\n",
       "      <td>否</td>\n",
       "    </tr>\n",
       "    <tr>\n",
       "      <th>1</th>\n",
       "      <td>2020-07-01</td>\n",
       "      <td>09:17:27.295</td>\n",
       "      <td>102900005115960</td>\n",
       "      <td>0.849</td>\n",
       "      <td>3.2</td>\n",
       "      <td>销售</td>\n",
       "      <td>否</td>\n",
       "    </tr>\n",
       "    <tr>\n",
       "      <th>2</th>\n",
       "      <td>2020-07-01</td>\n",
       "      <td>09:17:33.905</td>\n",
       "      <td>102900005117056</td>\n",
       "      <td>0.409</td>\n",
       "      <td>7.6</td>\n",
       "      <td>销售</td>\n",
       "      <td>否</td>\n",
       "    </tr>\n",
       "    <tr>\n",
       "      <th>3</th>\n",
       "      <td>2020-07-01</td>\n",
       "      <td>09:19:45.450</td>\n",
       "      <td>102900005115823</td>\n",
       "      <td>0.421</td>\n",
       "      <td>10.0</td>\n",
       "      <td>销售</td>\n",
       "      <td>否</td>\n",
       "    </tr>\n",
       "    <tr>\n",
       "      <th>4</th>\n",
       "      <td>2020-07-01</td>\n",
       "      <td>09:20:23.686</td>\n",
       "      <td>102900005115908</td>\n",
       "      <td>0.539</td>\n",
       "      <td>8.0</td>\n",
       "      <td>销售</td>\n",
       "      <td>否</td>\n",
       "    </tr>\n",
       "    <tr>\n",
       "      <th>...</th>\n",
       "      <td>...</td>\n",
       "      <td>...</td>\n",
       "      <td>...</td>\n",
       "      <td>...</td>\n",
       "      <td>...</td>\n",
       "      <td>...</td>\n",
       "      <td>...</td>\n",
       "    </tr>\n",
       "    <tr>\n",
       "      <th>878498</th>\n",
       "      <td>2023-06-30</td>\n",
       "      <td>21:35:13.264</td>\n",
       "      <td>102900005115250</td>\n",
       "      <td>0.284</td>\n",
       "      <td>24.0</td>\n",
       "      <td>销售</td>\n",
       "      <td>否</td>\n",
       "    </tr>\n",
       "    <tr>\n",
       "      <th>878499</th>\n",
       "      <td>2023-06-30</td>\n",
       "      <td>21:35:14.358</td>\n",
       "      <td>102900011022764</td>\n",
       "      <td>0.669</td>\n",
       "      <td>12.0</td>\n",
       "      <td>销售</td>\n",
       "      <td>否</td>\n",
       "    </tr>\n",
       "    <tr>\n",
       "      <th>878500</th>\n",
       "      <td>2023-06-30</td>\n",
       "      <td>21:35:20.264</td>\n",
       "      <td>102900005115250</td>\n",
       "      <td>0.125</td>\n",
       "      <td>24.0</td>\n",
       "      <td>销售</td>\n",
       "      <td>否</td>\n",
       "    </tr>\n",
       "    <tr>\n",
       "      <th>878501</th>\n",
       "      <td>2023-06-30</td>\n",
       "      <td>21:35:21.509</td>\n",
       "      <td>102900011016701</td>\n",
       "      <td>0.252</td>\n",
       "      <td>5.2</td>\n",
       "      <td>销售</td>\n",
       "      <td>否</td>\n",
       "    </tr>\n",
       "    <tr>\n",
       "      <th>878502</th>\n",
       "      <td>2023-06-30</td>\n",
       "      <td>21:40:48.248</td>\n",
       "      <td>102900011022764</td>\n",
       "      <td>0.803</td>\n",
       "      <td>12.0</td>\n",
       "      <td>销售</td>\n",
       "      <td>否</td>\n",
       "    </tr>\n",
       "  </tbody>\n",
       "</table>\n",
       "<p>878503 rows × 7 columns</p>\n",
       "</div>"
      ],
      "text/plain": [
       "             销售日期        扫码销售时间             单品编码  销量(千克)  销售单价(元/千克) 销售类型  \\\n",
       "0      2020-07-01  09:15:07.924  102900005117056   0.396         7.6   销售   \n",
       "1      2020-07-01  09:17:27.295  102900005115960   0.849         3.2   销售   \n",
       "2      2020-07-01  09:17:33.905  102900005117056   0.409         7.6   销售   \n",
       "3      2020-07-01  09:19:45.450  102900005115823   0.421        10.0   销售   \n",
       "4      2020-07-01  09:20:23.686  102900005115908   0.539         8.0   销售   \n",
       "...           ...           ...              ...     ...         ...  ...   \n",
       "878498 2023-06-30  21:35:13.264  102900005115250   0.284        24.0   销售   \n",
       "878499 2023-06-30  21:35:14.358  102900011022764   0.669        12.0   销售   \n",
       "878500 2023-06-30  21:35:20.264  102900005115250   0.125        24.0   销售   \n",
       "878501 2023-06-30  21:35:21.509  102900011016701   0.252         5.2   销售   \n",
       "878502 2023-06-30  21:40:48.248  102900011022764   0.803        12.0   销售   \n",
       "\n",
       "       是否打折销售  \n",
       "0           否  \n",
       "1           否  \n",
       "2           否  \n",
       "3           否  \n",
       "4           否  \n",
       "...       ...  \n",
       "878498      否  \n",
       "878499      否  \n",
       "878500      否  \n",
       "878501      否  \n",
       "878502      否  \n",
       "\n",
       "[878503 rows x 7 columns]"
      ]
     },
     "execution_count": 4,
     "metadata": {},
     "output_type": "execute_result"
    }
   ],
   "source": [
    "df2"
   ]
  },
  {
   "cell_type": "code",
   "execution_count": 13,
   "id": "43cf5a4d",
   "metadata": {},
   "outputs": [
    {
     "data": {
      "text/plain": [
       "(销售日期          0\n",
       " 扫码销售时间        0\n",
       " 单品编码          0\n",
       " 销量(千克)        0\n",
       " 销售单价(元/千克)    0\n",
       " 销售类型          0\n",
       " 是否打折销售        0\n",
       " dtype: int64,\n",
       "               销量(千克)     销售单价(元/千克)\n",
       " count  878503.000000  878503.000000\n",
       " mean        0.536112       8.917144\n",
       " std         0.400087       6.311265\n",
       " min        -9.082000       0.100000\n",
       " 25%         0.290000       4.900000\n",
       " 50%         0.435000       7.900000\n",
       " 75%         0.742000      10.800000\n",
       " max       160.000000     119.900000)"
      ]
     },
     "execution_count": 13,
     "metadata": {},
     "output_type": "execute_result"
    }
   ],
   "source": [
    "# Check for missing values in each column\n",
    "missing_values = df2.isnull().sum()\n",
    "\n",
    "# Check for potential outliers in the '销量(千克)' and '销售单价(元/千克)' columns using summary statistics\n",
    "summary_stats = df2[['销量(千克)', '销售单价(元/千克)']].describe()\n",
    "\n",
    "missing_values, summary_stats\n"
   ]
  },
  {
   "cell_type": "code",
   "execution_count": 9,
   "id": "88d3bc45",
   "metadata": {},
   "outputs": [],
   "source": [
    "df2s = df2.head(100)\n",
    "\n",
    "# 保存到新的CSV文件\n",
    "#df2s.to_excel(\"E:\\\\数学建模国赛2023选题\\\\C题\\\\df2s.xlsx\", index=True)"
   ]
  }
 ],
 "metadata": {
  "kernelspec": {
   "display_name": "Python 3 (ipykernel)",
   "language": "python",
   "name": "python3"
  },
  "language_info": {
   "codemirror_mode": {
    "name": "ipython",
    "version": 3
   },
   "file_extension": ".py",
   "mimetype": "text/x-python",
   "name": "python",
   "nbconvert_exporter": "python",
   "pygments_lexer": "ipython3",
   "version": "3.10.8"
  }
 },
 "nbformat": 4,
 "nbformat_minor": 5
}
