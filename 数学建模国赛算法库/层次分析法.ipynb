{
 "cells": [
  {
   "cell_type": "code",
   "execution_count": 1,
   "id": "32ac797e",
   "metadata": {},
   "outputs": [
    {
     "name": "stdout",
     "output_type": "stream",
     "text": [
      "==========准则层==========\n",
      "最大特征值5.072084,CR=0.014533,检验通过\n",
      "准则层权重 = [0.47583538 0.26360349 0.0538146  0.09806829 0.10867824]\n",
      "\n",
      "==========方案层==========\n",
      "          方案0       方案1       方案2     最大特征值            CR  一致性检验\n",
      "准则0  0.081935  0.236341  0.681725  3.001542  8.564584e-04   True\n",
      "准则1  0.595379  0.276350  0.128271  3.005535  3.075062e-03   True\n",
      "准则2  0.428571  0.428571  0.142857  3.000000 -4.934325e-16   True\n",
      "准则3  0.633708  0.191921  0.174371  3.009203  5.112618e-03   True\n",
      "准则4  0.344545  0.108525  0.546931  3.053622  2.978976e-02   True\n",
      "\n",
      "==========目标层==========\n",
      "[[0.318586   0.23898522 0.44242878]]\n",
      "最优选择是方案2\n"
     ]
    }
   ],
   "source": [
    "from AHP import AHP\n",
    "import numpy as np\n",
    "\n",
    "# 准则重要性矩阵\n",
    "criteria = np.array([[1, 2, 7, 5, 5],\n",
    "                     [1 / 2, 1, 4, 3, 3],\n",
    "                     [1 / 7, 1 / 4, 1, 1 / 2, 1 / 3],\n",
    "                     [1 / 5, 1 / 3, 2, 1, 1],\n",
    "                     [1 / 5, 1 / 3, 3, 1, 1]])\n",
    "\n",
    "# 对每个准则，方案优劣排序\n",
    "b1 = np.array([[1, 1 / 3, 1 / 8], [3, 1, 1 / 3], [8, 3, 1]])\n",
    "b2 = np.array([[1, 2, 5], [1 / 2, 1, 2], [1 / 5, 1 / 2, 1]])\n",
    "b3 = np.array([[1, 1, 3], [1, 1, 3], [1 / 3, 1 / 3, 1]])\n",
    "b4 = np.array([[1, 3, 4], [1 / 3, 1, 1], [1 / 4, 1, 1]])\n",
    "b5 = np.array([[1, 4, 1 / 2], [1 / 4, 1, 1 / 4], [2, 4, 1]])\n",
    "\n",
    "b = [b1, b2, b3, b4, b5]\n",
    "a = AHP(criteria, b).run()"
   ]
  },
  {
   "cell_type": "code",
   "execution_count": null,
   "id": "552fc97f",
   "metadata": {},
   "outputs": [],
   "source": []
  }
 ],
 "metadata": {
  "kernelspec": {
   "display_name": "Python 3 (ipykernel)",
   "language": "python",
   "name": "python3"
  },
  "language_info": {
   "codemirror_mode": {
    "name": "ipython",
    "version": 3
   },
   "file_extension": ".py",
   "mimetype": "text/x-python",
   "name": "python",
   "nbconvert_exporter": "python",
   "pygments_lexer": "ipython3",
   "version": "3.10.8"
  }
 },
 "nbformat": 4,
 "nbformat_minor": 5
}
